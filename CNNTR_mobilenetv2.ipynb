{
  "cells": [
    {
      "cell_type": "code",
      "execution_count": null,
      "metadata": {
        "colab": {
          "base_uri": "https://localhost:8080/"
        },
        "id": "TH5oKuHNObGT",
        "outputId": "883c420e-2732-48a5-aae1-61ac6e5c159b"
      },
      "outputs": [
        {
          "name": "stderr",
          "output_type": "stream",
          "text": [
            "/usr/local/lib/python3.10/dist-packages/tensorflow/python/client/session.py:1769: UserWarning: An interactive session is already active. This can cause out-of-memory errors in some cases. You must explicitly call `InteractiveSession.close()` to release resources held by the other session(s).\n",
            "  warnings.warn('An interactive session is already active. This can '\n"
          ]
        }
      ],
      "source": [
        "from tensorflow.compat.v1 import ConfigProto\n",
        "from tensorflow.compat.v1 import InteractiveSession\n",
        "\n",
        "config = ConfigProto()\n",
        "config.gpu_options.per_process_gpu_memory_fraction = 0.5\n",
        "config.gpu_options.allow_growth = True\n",
        "session = InteractiveSession(config=config)"
      ]
    },
    {
      "cell_type": "code",
      "execution_count": null,
      "metadata": {
        "id": "BquWyOzmOjaK"
      },
      "outputs": [],
      "source": [
        "# import the libraries as shown below\n",
        "\n",
        "from tensorflow.keras.layers import Input, Lambda, Dense, Flatten\n",
        "from tensorflow.keras.models import Model\n",
        "#from tensorflow.keras.applications.inception_v3 import InceptionV3\n",
        "from tensorflow.keras.applications.mobilenet_v2 import MobileNetV2\n",
        "#from keras.applications.vgg16 import VGG16\n",
        "#from tensorflow.keras.applications.inception_v3 import preprocess_input\n",
        "from tensorflow.keras.applications.mobilenet_v2 import preprocess_input\n",
        "from tensorflow.keras.preprocessing import image\n",
        "from tensorflow.keras.preprocessing.image import ImageDataGenerator,load_img\n",
        "from tensorflow.keras.models import Sequential\n",
        "\n",
        "import numpy as np\n",
        "from glob import glob\n",
        "#import matplotlib.pyplot as plt"
      ]
    },
    {
      "cell_type": "code",
      "execution_count": null,
      "metadata": {
        "id": "143xlEJIOm2J"
      },
      "outputs": [],
      "source": [
        "# re-size all the images to this\n",
        "IMAGE_SIZE = [224, 224]\n",
        "\n",
        "train_path = '/content/drive/MyDrive/Cotton Dataset/train'\n",
        "valid_path = '/content/drive/MyDrive/Cotton Dataset/test'"
      ]
    },
    {
      "cell_type": "code",
      "execution_count": null,
      "metadata": {
        "id": "BrpN1I07OnVA"
      },
      "outputs": [],
      "source": [
        "# Import the Vgg 16 library as shown below and add preprocessing layer to the front of VGG\n",
        "# Here we will be using imagenet weights\n",
        "\n",
        "mobilenet = MobileNetV2(input_shape=IMAGE_SIZE + [3], weights='imagenet', include_top=False)"
      ]
    },
    {
      "cell_type": "code",
      "execution_count": null,
      "metadata": {
        "id": "2nIldHTcO_5i"
      },
      "outputs": [],
      "source": [
        "# don't train existing weights\n",
        "for layer in mobilenet.layers:\n",
        "    layer.trainable = False"
      ]
    },
    {
      "cell_type": "code",
      "execution_count": null,
      "metadata": {
        "colab": {
          "base_uri": "https://localhost:8080/"
        },
        "id": "BjMKBmjNO_84",
        "outputId": "776fa2f9-5cb4-4e9d-9a86-76cbe50dacbb"
      },
      "outputs": [
        {
          "data": {
            "text/plain": [
              "['/content/drive/MyDrive/Cotton Dataset/train/fresh cotton plant',\n",
              " '/content/drive/MyDrive/Cotton Dataset/train/diseased cotton plant',\n",
              " '/content/drive/MyDrive/Cotton Dataset/train/diseased cotton leaf',\n",
              " '/content/drive/MyDrive/Cotton Dataset/train/fresh cotton leaf']"
            ]
          },
          "execution_count": 19,
          "metadata": {},
          "output_type": "execute_result"
        }
      ],
      "source": [
        "  # useful for getting number of output classes\n",
        "folders = glob('/content/drive/MyDrive/Cotton Dataset/train/*')\n",
        "folders"
      ]
    },
    {
      "cell_type": "code",
      "execution_count": null,
      "metadata": {
        "id": "IlF3Dj2RPAAQ"
      },
      "outputs": [],
      "source": [
        "# our layers - you can add more if you want\n",
        "x = Flatten()(mobilenet.output)"
      ]
    },
    {
      "cell_type": "code",
      "execution_count": null,
      "metadata": {
        "id": "qsAZAObGPADg"
      },
      "outputs": [],
      "source": [
        "prediction = Dense(len(folders), activation='softmax')(x)\n",
        "\n",
        "# create a model object\n",
        "model = Model(inputs=mobilenet.input, outputs=prediction)"
      ]
    },
    {
      "cell_type": "code",
      "execution_count": null,
      "metadata": {
        "colab": {
          "base_uri": "https://localhost:8080/"
        },
        "id": "QJG6v-oFPAGx",
        "outputId": "b11851e1-830d-426a-ea4d-78e80949680b"
      },
      "outputs": [
        {
          "name": "stdout",
          "output_type": "stream",
          "text": [
            "Model: \"model_1\"\n",
            "__________________________________________________________________________________________________\n",
            " Layer (type)                   Output Shape         Param #     Connected to                     \n",
            "==================================================================================================\n",
            " input_2 (InputLayer)           [(None, 224, 224, 3  0           []                               \n",
            "                                )]                                                                \n",
            "                                                                                                  \n",
            " Conv1 (Conv2D)                 (None, 112, 112, 32  864         ['input_2[0][0]']                \n",
            "                                )                                                                 \n",
            "                                                                                                  \n",
            " bn_Conv1 (BatchNormalization)  (None, 112, 112, 32  128         ['Conv1[0][0]']                  \n",
            "                                )                                                                 \n",
            "                                                                                                  \n",
            " Conv1_relu (ReLU)              (None, 112, 112, 32  0           ['bn_Conv1[0][0]']               \n",
            "                                )                                                                 \n",
            "                                                                                                  \n",
            " expanded_conv_depthwise (Depth  (None, 112, 112, 32  288        ['Conv1_relu[0][0]']             \n",
            " wiseConv2D)                    )                                                                 \n",
            "                                                                                                  \n",
            " expanded_conv_depthwise_BN (Ba  (None, 112, 112, 32  128        ['expanded_conv_depthwise[0][0]']\n",
            " tchNormalization)              )                                                                 \n",
            "                                                                                                  \n",
            " expanded_conv_depthwise_relu (  (None, 112, 112, 32  0          ['expanded_conv_depthwise_BN[0][0\n",
            " ReLU)                          )                                ]']                              \n",
            "                                                                                                  \n",
            " expanded_conv_project (Conv2D)  (None, 112, 112, 16  512        ['expanded_conv_depthwise_relu[0]\n",
            "                                )                                [0]']                            \n",
            "                                                                                                  \n",
            " expanded_conv_project_BN (Batc  (None, 112, 112, 16  64         ['expanded_conv_project[0][0]']  \n",
            " hNormalization)                )                                                                 \n",
            "                                                                                                  \n",
            " block_1_expand (Conv2D)        (None, 112, 112, 96  1536        ['expanded_conv_project_BN[0][0]'\n",
            "                                )                                ]                                \n",
            "                                                                                                  \n",
            " block_1_expand_BN (BatchNormal  (None, 112, 112, 96  384        ['block_1_expand[0][0]']         \n",
            " ization)                       )                                                                 \n",
            "                                                                                                  \n",
            " block_1_expand_relu (ReLU)     (None, 112, 112, 96  0           ['block_1_expand_BN[0][0]']      \n",
            "                                )                                                                 \n",
            "                                                                                                  \n",
            " block_1_pad (ZeroPadding2D)    (None, 113, 113, 96  0           ['block_1_expand_relu[0][0]']    \n",
            "                                )                                                                 \n",
            "                                                                                                  \n",
            " block_1_depthwise (DepthwiseCo  (None, 56, 56, 96)  864         ['block_1_pad[0][0]']            \n",
            " nv2D)                                                                                            \n",
            "                                                                                                  \n",
            " block_1_depthwise_BN (BatchNor  (None, 56, 56, 96)  384         ['block_1_depthwise[0][0]']      \n",
            " malization)                                                                                      \n",
            "                                                                                                  \n",
            " block_1_depthwise_relu (ReLU)  (None, 56, 56, 96)   0           ['block_1_depthwise_BN[0][0]']   \n",
            "                                                                                                  \n",
            " block_1_project (Conv2D)       (None, 56, 56, 24)   2304        ['block_1_depthwise_relu[0][0]'] \n",
            "                                                                                                  \n",
            " block_1_project_BN (BatchNorma  (None, 56, 56, 24)  96          ['block_1_project[0][0]']        \n",
            " lization)                                                                                        \n",
            "                                                                                                  \n",
            " block_2_expand (Conv2D)        (None, 56, 56, 144)  3456        ['block_1_project_BN[0][0]']     \n",
            "                                                                                                  \n",
            " block_2_expand_BN (BatchNormal  (None, 56, 56, 144)  576        ['block_2_expand[0][0]']         \n",
            " ization)                                                                                         \n",
            "                                                                                                  \n",
            " block_2_expand_relu (ReLU)     (None, 56, 56, 144)  0           ['block_2_expand_BN[0][0]']      \n",
            "                                                                                                  \n",
            " block_2_depthwise (DepthwiseCo  (None, 56, 56, 144)  1296       ['block_2_expand_relu[0][0]']    \n",
            " nv2D)                                                                                            \n",
            "                                                                                                  \n",
            " block_2_depthwise_BN (BatchNor  (None, 56, 56, 144)  576        ['block_2_depthwise[0][0]']      \n",
            " malization)                                                                                      \n",
            "                                                                                                  \n",
            " block_2_depthwise_relu (ReLU)  (None, 56, 56, 144)  0           ['block_2_depthwise_BN[0][0]']   \n",
            "                                                                                                  \n",
            " block_2_project (Conv2D)       (None, 56, 56, 24)   3456        ['block_2_depthwise_relu[0][0]'] \n",
            "                                                                                                  \n",
            " block_2_project_BN (BatchNorma  (None, 56, 56, 24)  96          ['block_2_project[0][0]']        \n",
            " lization)                                                                                        \n",
            "                                                                                                  \n",
            " block_2_add (Add)              (None, 56, 56, 24)   0           ['block_1_project_BN[0][0]',     \n",
            "                                                                  'block_2_project_BN[0][0]']     \n",
            "                                                                                                  \n",
            " block_3_expand (Conv2D)        (None, 56, 56, 144)  3456        ['block_2_add[0][0]']            \n",
            "                                                                                                  \n",
            " block_3_expand_BN (BatchNormal  (None, 56, 56, 144)  576        ['block_3_expand[0][0]']         \n",
            " ization)                                                                                         \n",
            "                                                                                                  \n",
            " block_3_expand_relu (ReLU)     (None, 56, 56, 144)  0           ['block_3_expand_BN[0][0]']      \n",
            "                                                                                                  \n",
            " block_3_pad (ZeroPadding2D)    (None, 57, 57, 144)  0           ['block_3_expand_relu[0][0]']    \n",
            "                                                                                                  \n",
            " block_3_depthwise (DepthwiseCo  (None, 28, 28, 144)  1296       ['block_3_pad[0][0]']            \n",
            " nv2D)                                                                                            \n",
            "                                                                                                  \n",
            " block_3_depthwise_BN (BatchNor  (None, 28, 28, 144)  576        ['block_3_depthwise[0][0]']      \n",
            " malization)                                                                                      \n",
            "                                                                                                  \n",
            " block_3_depthwise_relu (ReLU)  (None, 28, 28, 144)  0           ['block_3_depthwise_BN[0][0]']   \n",
            "                                                                                                  \n",
            " block_3_project (Conv2D)       (None, 28, 28, 32)   4608        ['block_3_depthwise_relu[0][0]'] \n",
            "                                                                                                  \n",
            " block_3_project_BN (BatchNorma  (None, 28, 28, 32)  128         ['block_3_project[0][0]']        \n",
            " lization)                                                                                        \n",
            "                                                                                                  \n",
            " block_4_expand (Conv2D)        (None, 28, 28, 192)  6144        ['block_3_project_BN[0][0]']     \n",
            "                                                                                                  \n",
            " block_4_expand_BN (BatchNormal  (None, 28, 28, 192)  768        ['block_4_expand[0][0]']         \n",
            " ization)                                                                                         \n",
            "                                                                                                  \n",
            " block_4_expand_relu (ReLU)     (None, 28, 28, 192)  0           ['block_4_expand_BN[0][0]']      \n",
            "                                                                                                  \n",
            " block_4_depthwise (DepthwiseCo  (None, 28, 28, 192)  1728       ['block_4_expand_relu[0][0]']    \n",
            " nv2D)                                                                                            \n",
            "                                                                                                  \n",
            " block_4_depthwise_BN (BatchNor  (None, 28, 28, 192)  768        ['block_4_depthwise[0][0]']      \n",
            " malization)                                                                                      \n",
            "                                                                                                  \n",
            " block_4_depthwise_relu (ReLU)  (None, 28, 28, 192)  0           ['block_4_depthwise_BN[0][0]']   \n",
            "                                                                                                  \n",
            " block_4_project (Conv2D)       (None, 28, 28, 32)   6144        ['block_4_depthwise_relu[0][0]'] \n",
            "                                                                                                  \n",
            " block_4_project_BN (BatchNorma  (None, 28, 28, 32)  128         ['block_4_project[0][0]']        \n",
            " lization)                                                                                        \n",
            "                                                                                                  \n",
            " block_4_add (Add)              (None, 28, 28, 32)   0           ['block_3_project_BN[0][0]',     \n",
            "                                                                  'block_4_project_BN[0][0]']     \n",
            "                                                                                                  \n",
            " block_5_expand (Conv2D)        (None, 28, 28, 192)  6144        ['block_4_add[0][0]']            \n",
            "                                                                                                  \n",
            " block_5_expand_BN (BatchNormal  (None, 28, 28, 192)  768        ['block_5_expand[0][0]']         \n",
            " ization)                                                                                         \n",
            "                                                                                                  \n",
            " block_5_expand_relu (ReLU)     (None, 28, 28, 192)  0           ['block_5_expand_BN[0][0]']      \n",
            "                                                                                                  \n",
            " block_5_depthwise (DepthwiseCo  (None, 28, 28, 192)  1728       ['block_5_expand_relu[0][0]']    \n",
            " nv2D)                                                                                            \n",
            "                                                                                                  \n",
            " block_5_depthwise_BN (BatchNor  (None, 28, 28, 192)  768        ['block_5_depthwise[0][0]']      \n",
            " malization)                                                                                      \n",
            "                                                                                                  \n",
            " block_5_depthwise_relu (ReLU)  (None, 28, 28, 192)  0           ['block_5_depthwise_BN[0][0]']   \n",
            "                                                                                                  \n",
            " block_5_project (Conv2D)       (None, 28, 28, 32)   6144        ['block_5_depthwise_relu[0][0]'] \n",
            "                                                                                                  \n",
            " block_5_project_BN (BatchNorma  (None, 28, 28, 32)  128         ['block_5_project[0][0]']        \n",
            " lization)                                                                                        \n",
            "                                                                                                  \n",
            " block_5_add (Add)              (None, 28, 28, 32)   0           ['block_4_add[0][0]',            \n",
            "                                                                  'block_5_project_BN[0][0]']     \n",
            "                                                                                                  \n",
            " block_6_expand (Conv2D)        (None, 28, 28, 192)  6144        ['block_5_add[0][0]']            \n",
            "                                                                                                  \n",
            " block_6_expand_BN (BatchNormal  (None, 28, 28, 192)  768        ['block_6_expand[0][0]']         \n",
            " ization)                                                                                         \n",
            "                                                                                                  \n",
            " block_6_expand_relu (ReLU)     (None, 28, 28, 192)  0           ['block_6_expand_BN[0][0]']      \n",
            "                                                                                                  \n",
            " block_6_pad (ZeroPadding2D)    (None, 29, 29, 192)  0           ['block_6_expand_relu[0][0]']    \n",
            "                                                                                                  \n",
            " block_6_depthwise (DepthwiseCo  (None, 14, 14, 192)  1728       ['block_6_pad[0][0]']            \n",
            " nv2D)                                                                                            \n",
            "                                                                                                  \n",
            " block_6_depthwise_BN (BatchNor  (None, 14, 14, 192)  768        ['block_6_depthwise[0][0]']      \n",
            " malization)                                                                                      \n",
            "                                                                                                  \n",
            " block_6_depthwise_relu (ReLU)  (None, 14, 14, 192)  0           ['block_6_depthwise_BN[0][0]']   \n",
            "                                                                                                  \n",
            " block_6_project (Conv2D)       (None, 14, 14, 64)   12288       ['block_6_depthwise_relu[0][0]'] \n",
            "                                                                                                  \n",
            " block_6_project_BN (BatchNorma  (None, 14, 14, 64)  256         ['block_6_project[0][0]']        \n",
            " lization)                                                                                        \n",
            "                                                                                                  \n",
            " block_7_expand (Conv2D)        (None, 14, 14, 384)  24576       ['block_6_project_BN[0][0]']     \n",
            "                                                                                                  \n",
            " block_7_expand_BN (BatchNormal  (None, 14, 14, 384)  1536       ['block_7_expand[0][0]']         \n",
            " ization)                                                                                         \n",
            "                                                                                                  \n",
            " block_7_expand_relu (ReLU)     (None, 14, 14, 384)  0           ['block_7_expand_BN[0][0]']      \n",
            "                                                                                                  \n",
            " block_7_depthwise (DepthwiseCo  (None, 14, 14, 384)  3456       ['block_7_expand_relu[0][0]']    \n",
            " nv2D)                                                                                            \n",
            "                                                                                                  \n",
            " block_7_depthwise_BN (BatchNor  (None, 14, 14, 384)  1536       ['block_7_depthwise[0][0]']      \n",
            " malization)                                                                                      \n",
            "                                                                                                  \n",
            " block_7_depthwise_relu (ReLU)  (None, 14, 14, 384)  0           ['block_7_depthwise_BN[0][0]']   \n",
            "                                                                                                  \n",
            " block_7_project (Conv2D)       (None, 14, 14, 64)   24576       ['block_7_depthwise_relu[0][0]'] \n",
            "                                                                                                  \n",
            " block_7_project_BN (BatchNorma  (None, 14, 14, 64)  256         ['block_7_project[0][0]']        \n",
            " lization)                                                                                        \n",
            "                                                                                                  \n",
            " block_7_add (Add)              (None, 14, 14, 64)   0           ['block_6_project_BN[0][0]',     \n",
            "                                                                  'block_7_project_BN[0][0]']     \n",
            "                                                                                                  \n",
            " block_8_expand (Conv2D)        (None, 14, 14, 384)  24576       ['block_7_add[0][0]']            \n",
            "                                                                                                  \n",
            " block_8_expand_BN (BatchNormal  (None, 14, 14, 384)  1536       ['block_8_expand[0][0]']         \n",
            " ization)                                                                                         \n",
            "                                                                                                  \n",
            " block_8_expand_relu (ReLU)     (None, 14, 14, 384)  0           ['block_8_expand_BN[0][0]']      \n",
            "                                                                                                  \n",
            " block_8_depthwise (DepthwiseCo  (None, 14, 14, 384)  3456       ['block_8_expand_relu[0][0]']    \n",
            " nv2D)                                                                                            \n",
            "                                                                                                  \n",
            " block_8_depthwise_BN (BatchNor  (None, 14, 14, 384)  1536       ['block_8_depthwise[0][0]']      \n",
            " malization)                                                                                      \n",
            "                                                                                                  \n",
            " block_8_depthwise_relu (ReLU)  (None, 14, 14, 384)  0           ['block_8_depthwise_BN[0][0]']   \n",
            "                                                                                                  \n",
            " block_8_project (Conv2D)       (None, 14, 14, 64)   24576       ['block_8_depthwise_relu[0][0]'] \n",
            "                                                                                                  \n",
            " block_8_project_BN (BatchNorma  (None, 14, 14, 64)  256         ['block_8_project[0][0]']        \n",
            " lization)                                                                                        \n",
            "                                                                                                  \n",
            " block_8_add (Add)              (None, 14, 14, 64)   0           ['block_7_add[0][0]',            \n",
            "                                                                  'block_8_project_BN[0][0]']     \n",
            "                                                                                                  \n",
            " block_9_expand (Conv2D)        (None, 14, 14, 384)  24576       ['block_8_add[0][0]']            \n",
            "                                                                                                  \n",
            " block_9_expand_BN (BatchNormal  (None, 14, 14, 384)  1536       ['block_9_expand[0][0]']         \n",
            " ization)                                                                                         \n",
            "                                                                                                  \n",
            " block_9_expand_relu (ReLU)     (None, 14, 14, 384)  0           ['block_9_expand_BN[0][0]']      \n",
            "                                                                                                  \n",
            " block_9_depthwise (DepthwiseCo  (None, 14, 14, 384)  3456       ['block_9_expand_relu[0][0]']    \n",
            " nv2D)                                                                                            \n",
            "                                                                                                  \n",
            " block_9_depthwise_BN (BatchNor  (None, 14, 14, 384)  1536       ['block_9_depthwise[0][0]']      \n",
            " malization)                                                                                      \n",
            "                                                                                                  \n",
            " block_9_depthwise_relu (ReLU)  (None, 14, 14, 384)  0           ['block_9_depthwise_BN[0][0]']   \n",
            "                                                                                                  \n",
            " block_9_project (Conv2D)       (None, 14, 14, 64)   24576       ['block_9_depthwise_relu[0][0]'] \n",
            "                                                                                                  \n",
            " block_9_project_BN (BatchNorma  (None, 14, 14, 64)  256         ['block_9_project[0][0]']        \n",
            " lization)                                                                                        \n",
            "                                                                                                  \n",
            " block_9_add (Add)              (None, 14, 14, 64)   0           ['block_8_add[0][0]',            \n",
            "                                                                  'block_9_project_BN[0][0]']     \n",
            "                                                                                                  \n",
            " block_10_expand (Conv2D)       (None, 14, 14, 384)  24576       ['block_9_add[0][0]']            \n",
            "                                                                                                  \n",
            " block_10_expand_BN (BatchNorma  (None, 14, 14, 384)  1536       ['block_10_expand[0][0]']        \n",
            " lization)                                                                                        \n",
            "                                                                                                  \n",
            " block_10_expand_relu (ReLU)    (None, 14, 14, 384)  0           ['block_10_expand_BN[0][0]']     \n",
            "                                                                                                  \n",
            " block_10_depthwise (DepthwiseC  (None, 14, 14, 384)  3456       ['block_10_expand_relu[0][0]']   \n",
            " onv2D)                                                                                           \n",
            "                                                                                                  \n",
            " block_10_depthwise_BN (BatchNo  (None, 14, 14, 384)  1536       ['block_10_depthwise[0][0]']     \n",
            " rmalization)                                                                                     \n",
            "                                                                                                  \n",
            " block_10_depthwise_relu (ReLU)  (None, 14, 14, 384)  0          ['block_10_depthwise_BN[0][0]']  \n",
            "                                                                                                  \n",
            " block_10_project (Conv2D)      (None, 14, 14, 96)   36864       ['block_10_depthwise_relu[0][0]']\n",
            "                                                                                                  \n",
            " block_10_project_BN (BatchNorm  (None, 14, 14, 96)  384         ['block_10_project[0][0]']       \n",
            " alization)                                                                                       \n",
            "                                                                                                  \n",
            " block_11_expand (Conv2D)       (None, 14, 14, 576)  55296       ['block_10_project_BN[0][0]']    \n",
            "                                                                                                  \n",
            " block_11_expand_BN (BatchNorma  (None, 14, 14, 576)  2304       ['block_11_expand[0][0]']        \n",
            " lization)                                                                                        \n",
            "                                                                                                  \n",
            " block_11_expand_relu (ReLU)    (None, 14, 14, 576)  0           ['block_11_expand_BN[0][0]']     \n",
            "                                                                                                  \n",
            " block_11_depthwise (DepthwiseC  (None, 14, 14, 576)  5184       ['block_11_expand_relu[0][0]']   \n",
            " onv2D)                                                                                           \n",
            "                                                                                                  \n",
            " block_11_depthwise_BN (BatchNo  (None, 14, 14, 576)  2304       ['block_11_depthwise[0][0]']     \n",
            " rmalization)                                                                                     \n",
            "                                                                                                  \n",
            " block_11_depthwise_relu (ReLU)  (None, 14, 14, 576)  0          ['block_11_depthwise_BN[0][0]']  \n",
            "                                                                                                  \n",
            " block_11_project (Conv2D)      (None, 14, 14, 96)   55296       ['block_11_depthwise_relu[0][0]']\n",
            "                                                                                                  \n",
            " block_11_project_BN (BatchNorm  (None, 14, 14, 96)  384         ['block_11_project[0][0]']       \n",
            " alization)                                                                                       \n",
            "                                                                                                  \n",
            " block_11_add (Add)             (None, 14, 14, 96)   0           ['block_10_project_BN[0][0]',    \n",
            "                                                                  'block_11_project_BN[0][0]']    \n",
            "                                                                                                  \n",
            " block_12_expand (Conv2D)       (None, 14, 14, 576)  55296       ['block_11_add[0][0]']           \n",
            "                                                                                                  \n",
            " block_12_expand_BN (BatchNorma  (None, 14, 14, 576)  2304       ['block_12_expand[0][0]']        \n",
            " lization)                                                                                        \n",
            "                                                                                                  \n",
            " block_12_expand_relu (ReLU)    (None, 14, 14, 576)  0           ['block_12_expand_BN[0][0]']     \n",
            "                                                                                                  \n",
            " block_12_depthwise (DepthwiseC  (None, 14, 14, 576)  5184       ['block_12_expand_relu[0][0]']   \n",
            " onv2D)                                                                                           \n",
            "                                                                                                  \n",
            " block_12_depthwise_BN (BatchNo  (None, 14, 14, 576)  2304       ['block_12_depthwise[0][0]']     \n",
            " rmalization)                                                                                     \n",
            "                                                                                                  \n",
            " block_12_depthwise_relu (ReLU)  (None, 14, 14, 576)  0          ['block_12_depthwise_BN[0][0]']  \n",
            "                                                                                                  \n",
            " block_12_project (Conv2D)      (None, 14, 14, 96)   55296       ['block_12_depthwise_relu[0][0]']\n",
            "                                                                                                  \n",
            " block_12_project_BN (BatchNorm  (None, 14, 14, 96)  384         ['block_12_project[0][0]']       \n",
            " alization)                                                                                       \n",
            "                                                                                                  \n",
            " block_12_add (Add)             (None, 14, 14, 96)   0           ['block_11_add[0][0]',           \n",
            "                                                                  'block_12_project_BN[0][0]']    \n",
            "                                                                                                  \n",
            " block_13_expand (Conv2D)       (None, 14, 14, 576)  55296       ['block_12_add[0][0]']           \n",
            "                                                                                                  \n",
            " block_13_expand_BN (BatchNorma  (None, 14, 14, 576)  2304       ['block_13_expand[0][0]']        \n",
            " lization)                                                                                        \n",
            "                                                                                                  \n",
            " block_13_expand_relu (ReLU)    (None, 14, 14, 576)  0           ['block_13_expand_BN[0][0]']     \n",
            "                                                                                                  \n",
            " block_13_pad (ZeroPadding2D)   (None, 15, 15, 576)  0           ['block_13_expand_relu[0][0]']   \n",
            "                                                                                                  \n",
            " block_13_depthwise (DepthwiseC  (None, 7, 7, 576)   5184        ['block_13_pad[0][0]']           \n",
            " onv2D)                                                                                           \n",
            "                                                                                                  \n",
            " block_13_depthwise_BN (BatchNo  (None, 7, 7, 576)   2304        ['block_13_depthwise[0][0]']     \n",
            " rmalization)                                                                                     \n",
            "                                                                                                  \n",
            " block_13_depthwise_relu (ReLU)  (None, 7, 7, 576)   0           ['block_13_depthwise_BN[0][0]']  \n",
            "                                                                                                  \n",
            " block_13_project (Conv2D)      (None, 7, 7, 160)    92160       ['block_13_depthwise_relu[0][0]']\n",
            "                                                                                                  \n",
            " block_13_project_BN (BatchNorm  (None, 7, 7, 160)   640         ['block_13_project[0][0]']       \n",
            " alization)                                                                                       \n",
            "                                                                                                  \n",
            " block_14_expand (Conv2D)       (None, 7, 7, 960)    153600      ['block_13_project_BN[0][0]']    \n",
            "                                                                                                  \n",
            " block_14_expand_BN (BatchNorma  (None, 7, 7, 960)   3840        ['block_14_expand[0][0]']        \n",
            " lization)                                                                                        \n",
            "                                                                                                  \n",
            " block_14_expand_relu (ReLU)    (None, 7, 7, 960)    0           ['block_14_expand_BN[0][0]']     \n",
            "                                                                                                  \n",
            " block_14_depthwise (DepthwiseC  (None, 7, 7, 960)   8640        ['block_14_expand_relu[0][0]']   \n",
            " onv2D)                                                                                           \n",
            "                                                                                                  \n",
            " block_14_depthwise_BN (BatchNo  (None, 7, 7, 960)   3840        ['block_14_depthwise[0][0]']     \n",
            " rmalization)                                                                                     \n",
            "                                                                                                  \n",
            " block_14_depthwise_relu (ReLU)  (None, 7, 7, 960)   0           ['block_14_depthwise_BN[0][0]']  \n",
            "                                                                                                  \n",
            " block_14_project (Conv2D)      (None, 7, 7, 160)    153600      ['block_14_depthwise_relu[0][0]']\n",
            "                                                                                                  \n",
            " block_14_project_BN (BatchNorm  (None, 7, 7, 160)   640         ['block_14_project[0][0]']       \n",
            " alization)                                                                                       \n",
            "                                                                                                  \n",
            " block_14_add (Add)             (None, 7, 7, 160)    0           ['block_13_project_BN[0][0]',    \n",
            "                                                                  'block_14_project_BN[0][0]']    \n",
            "                                                                                                  \n",
            " block_15_expand (Conv2D)       (None, 7, 7, 960)    153600      ['block_14_add[0][0]']           \n",
            "                                                                                                  \n",
            " block_15_expand_BN (BatchNorma  (None, 7, 7, 960)   3840        ['block_15_expand[0][0]']        \n",
            " lization)                                                                                        \n",
            "                                                                                                  \n",
            " block_15_expand_relu (ReLU)    (None, 7, 7, 960)    0           ['block_15_expand_BN[0][0]']     \n",
            "                                                                                                  \n",
            " block_15_depthwise (DepthwiseC  (None, 7, 7, 960)   8640        ['block_15_expand_relu[0][0]']   \n",
            " onv2D)                                                                                           \n",
            "                                                                                                  \n",
            " block_15_depthwise_BN (BatchNo  (None, 7, 7, 960)   3840        ['block_15_depthwise[0][0]']     \n",
            " rmalization)                                                                                     \n",
            "                                                                                                  \n",
            " block_15_depthwise_relu (ReLU)  (None, 7, 7, 960)   0           ['block_15_depthwise_BN[0][0]']  \n",
            "                                                                                                  \n",
            " block_15_project (Conv2D)      (None, 7, 7, 160)    153600      ['block_15_depthwise_relu[0][0]']\n",
            "                                                                                                  \n",
            " block_15_project_BN (BatchNorm  (None, 7, 7, 160)   640         ['block_15_project[0][0]']       \n",
            " alization)                                                                                       \n",
            "                                                                                                  \n",
            " block_15_add (Add)             (None, 7, 7, 160)    0           ['block_14_add[0][0]',           \n",
            "                                                                  'block_15_project_BN[0][0]']    \n",
            "                                                                                                  \n",
            " block_16_expand (Conv2D)       (None, 7, 7, 960)    153600      ['block_15_add[0][0]']           \n",
            "                                                                                                  \n",
            " block_16_expand_BN (BatchNorma  (None, 7, 7, 960)   3840        ['block_16_expand[0][0]']        \n",
            " lization)                                                                                        \n",
            "                                                                                                  \n",
            " block_16_expand_relu (ReLU)    (None, 7, 7, 960)    0           ['block_16_expand_BN[0][0]']     \n",
            "                                                                                                  \n",
            " block_16_depthwise (DepthwiseC  (None, 7, 7, 960)   8640        ['block_16_expand_relu[0][0]']   \n",
            " onv2D)                                                                                           \n",
            "                                                                                                  \n",
            " block_16_depthwise_BN (BatchNo  (None, 7, 7, 960)   3840        ['block_16_depthwise[0][0]']     \n",
            " rmalization)                                                                                     \n",
            "                                                                                                  \n",
            " block_16_depthwise_relu (ReLU)  (None, 7, 7, 960)   0           ['block_16_depthwise_BN[0][0]']  \n",
            "                                                                                                  \n",
            " block_16_project (Conv2D)      (None, 7, 7, 320)    307200      ['block_16_depthwise_relu[0][0]']\n",
            "                                                                                                  \n",
            " block_16_project_BN (BatchNorm  (None, 7, 7, 320)   1280        ['block_16_project[0][0]']       \n",
            " alization)                                                                                       \n",
            "                                                                                                  \n",
            " Conv_1 (Conv2D)                (None, 7, 7, 1280)   409600      ['block_16_project_BN[0][0]']    \n",
            "                                                                                                  \n",
            " Conv_1_bn (BatchNormalization)  (None, 7, 7, 1280)  5120        ['Conv_1[0][0]']                 \n",
            "                                                                                                  \n",
            " out_relu (ReLU)                (None, 7, 7, 1280)   0           ['Conv_1_bn[0][0]']              \n",
            "                                                                                                  \n",
            " flatten_1 (Flatten)            (None, 62720)        0           ['out_relu[0][0]']               \n",
            "                                                                                                  \n",
            " dense_1 (Dense)                (None, 4)            250884      ['flatten_1[0][0]']              \n",
            "                                                                                                  \n",
            "==================================================================================================\n",
            "Total params: 2,508,868\n",
            "Trainable params: 250,884\n",
            "Non-trainable params: 2,257,984\n",
            "__________________________________________________________________________________________________\n"
          ]
        }
      ],
      "source": [
        "# view the structure of the model\n",
        "model.summary()"
      ]
    },
    {
      "cell_type": "code",
      "execution_count": null,
      "metadata": {
        "id": "TuNsuoTAPXLC"
      },
      "outputs": [],
      "source": [
        "# tell the model what cost and optimization method to use\n",
        "model.compile(\n",
        "  loss='categorical_crossentropy',\n",
        "  optimizer='adam',\n",
        "  metrics= ['accuracy','Precision','Recall']\n",
        ")"
      ]
    },
    {
      "cell_type": "code",
      "execution_count": null,
      "metadata": {
        "id": "qbNW8zNVPXOh"
      },
      "outputs": [],
      "source": [
        "# Use the Image Data Generator to import the images from the dataset\n",
        "from tensorflow.keras.preprocessing.image import ImageDataGenerator\n",
        "\n",
        "train_datagen = ImageDataGenerator(rescale = 1./255,\n",
        "                                   shear_range = 0.2,\n",
        "                                   zoom_range = 0.2,\n",
        "                                   horizontal_flip = True)\n",
        "\n",
        "test_datagen = ImageDataGenerator(rescale = 1./255)"
      ]
    },
    {
      "cell_type": "code",
      "execution_count": null,
      "metadata": {
        "colab": {
          "base_uri": "https://localhost:8080/"
        },
        "id": "pQR34PCIPXSR",
        "outputId": "398e02c7-b823-476c-b7bc-2e72b219802a"
      },
      "outputs": [
        {
          "name": "stdout",
          "output_type": "stream",
          "text": [
            "Found 1951 images belonging to 4 classes.\n"
          ]
        }
      ],
      "source": [
        "# Make sure you provide the same target size as initialied for the image size\n",
        "training_set = train_datagen.flow_from_directory('/content/drive/MyDrive/Cotton Dataset/train',\n",
        "                                                 target_size = (224, 224),\n",
        "                                                 batch_size = 32,\n",
        "                                                 class_mode = 'categorical')"
      ]
    },
    {
      "cell_type": "code",
      "execution_count": null,
      "metadata": {
        "colab": {
          "base_uri": "https://localhost:8080/"
        },
        "id": "yv9WzZU8PXVq",
        "outputId": "41a3bdf9-83e9-4541-ad6b-d70ba8d5874d"
      },
      "outputs": [
        {
          "name": "stdout",
          "output_type": "stream",
          "text": [
            "Found 106 images belonging to 4 classes.\n"
          ]
        }
      ],
      "source": [
        "test_set = test_datagen.flow_from_directory('/content/drive/MyDrive/Cotton Dataset/test',\n",
        "                                            target_size = (224, 224),\n",
        "                                            batch_size = 32,\n",
        "                                            class_mode = 'categorical')"
      ]
    },
    {
      "cell_type": "code",
      "execution_count": null,
      "metadata": {
        "colab": {
          "background_save": true,
          "base_uri": "https://localhost:8080/"
        },
        "id": "cFRN0G9KPAJv",
        "outputId": "9be26de8-02d9-4f73-8e87-3b91efbfb54d"
      },
      "outputs": [
        {
          "name": "stderr",
          "output_type": "stream",
          "text": [
            "<ipython-input-34-310ea5b21e99>:3: UserWarning: `Model.fit_generator` is deprecated and will be removed in a future version. Please use `Model.fit`, which supports generators.\n",
            "  r = model.fit_generator(\n"
          ]
        },
        {
          "name": "stdout",
          "output_type": "stream",
          "text": [
            "Epoch 1/50\n",
            "61/61 [==============================] - 127s 2s/step - loss: 4.6658 - accuracy: 0.9206 - precision: 0.9206 - recall: 0.9206 - val_loss: 4.0552 - val_accuracy: 0.9151 - val_precision: 0.9151 - val_recall: 0.9151\n",
            "Epoch 2/50\n",
            "61/61 [==============================] - 118s 2s/step - loss: 4.3380 - accuracy: 0.9247 - precision: 0.9247 - recall: 0.9247 - val_loss: 3.6491 - val_accuracy: 0.9340 - val_precision: 0.9340 - val_recall: 0.9340\n",
            "Epoch 3/50\n",
            "61/61 [==============================] - 114s 2s/step - loss: 3.5913 - accuracy: 0.9334 - precision: 0.9334 - recall: 0.9334 - val_loss: 3.6615 - val_accuracy: 0.9340 - val_precision: 0.9340 - val_recall: 0.9340\n",
            "Epoch 4/50\n",
            "61/61 [==============================] - 118s 2s/step - loss: 3.7009 - accuracy: 0.9329 - precision: 0.9329 - recall: 0.9329 - val_loss: 3.4453 - val_accuracy: 0.9340 - val_precision: 0.9340 - val_recall: 0.9340\n",
            "Epoch 5/50\n",
            "61/61 [==============================] - 116s 2s/step - loss: 3.0448 - accuracy: 0.9395 - precision: 0.9395 - recall: 0.9395 - val_loss: 2.7397 - val_accuracy: 0.9528 - val_precision: 0.9528 - val_recall: 0.9528\n",
            "Epoch 6/50\n",
            "61/61 [==============================] - 115s 2s/step - loss: 2.4518 - accuracy: 0.9513 - precision: 0.9513 - recall: 0.9513 - val_loss: 2.4307 - val_accuracy: 0.9623 - val_precision: 0.9623 - val_recall: 0.9623\n",
            "Epoch 7/50\n",
            "61/61 [==============================] - 121s 2s/step - loss: 2.0609 - accuracy: 0.9590 - precision: 0.9590 - recall: 0.9590 - val_loss: 1.6131 - val_accuracy: 0.9717 - val_precision: 0.9717 - val_recall: 0.9717\n",
            "Epoch 8/50\n",
            "61/61 [==============================] - 119s 2s/step - loss: 1.5380 - accuracy: 0.9595 - precision: 0.9595 - recall: 0.9595 - val_loss: 1.5235 - val_accuracy: 0.9717 - val_precision: 0.9717 - val_recall: 0.9717\n",
            "Epoch 9/50\n",
            "61/61 [==============================] - 128s 2s/step - loss: 1.9137 - accuracy: 0.9575 - precision: 0.9575 - recall: 0.9575 - val_loss: 2.2991 - val_accuracy: 0.9434 - val_precision: 0.9434 - val_recall: 0.9434\n",
            "Epoch 10/50\n",
            "61/61 [==============================] - 119s 2s/step - loss: 1.7287 - accuracy: 0.9554 - precision: 0.9554 - recall: 0.9554 - val_loss: 1.7552 - val_accuracy: 0.9717 - val_precision: 0.9717 - val_recall: 0.9717\n",
            "Epoch 11/50\n",
            "61/61 [==============================] - 118s 2s/step - loss: 2.0090 - accuracy: 0.9513 - precision: 0.9513 - recall: 0.9513 - val_loss: 2.7863 - val_accuracy: 0.9340 - val_precision: 0.9340 - val_recall: 0.9340\n",
            "Epoch 12/50\n",
            "61/61 [==============================] - 115s 2s/step - loss: 1.9643 - accuracy: 0.9528 - precision: 0.9528 - recall: 0.9528 - val_loss: 2.5730 - val_accuracy: 0.9434 - val_precision: 0.9434 - val_recall: 0.9434\n",
            "Epoch 13/50\n",
            "61/61 [==============================] - 119s 2s/step - loss: 2.0344 - accuracy: 0.9554 - precision: 0.9554 - recall: 0.9554 - val_loss: 3.1920 - val_accuracy: 0.9434 - val_precision: 0.9434 - val_recall: 0.9434\n",
            "Epoch 14/50\n",
            "61/61 [==============================] - 119s 2s/step - loss: 2.4681 - accuracy: 0.9498 - precision: 0.9498 - recall: 0.9498 - val_loss: 4.4008 - val_accuracy: 0.9151 - val_precision: 0.9151 - val_recall: 0.9151\n",
            "Epoch 15/50\n",
            "61/61 [==============================] - 119s 2s/step - loss: 2.2308 - accuracy: 0.9498 - precision: 0.9498 - recall: 0.9498 - val_loss: 3.1234 - val_accuracy: 0.9434 - val_precision: 0.9434 - val_recall: 0.9434\n",
            "Epoch 16/50\n",
            "61/61 [==============================] - 118s 2s/step - loss: 1.5966 - accuracy: 0.9569 - precision: 0.9569 - recall: 0.9569 - val_loss: 2.5665 - val_accuracy: 0.9623 - val_precision: 0.9623 - val_recall: 0.9623\n",
            "Epoch 17/50\n",
            "61/61 [==============================] - 117s 2s/step - loss: 1.7401 - accuracy: 0.9610 - precision: 0.9610 - recall: 0.9610 - val_loss: 1.8711 - val_accuracy: 0.9717 - val_precision: 0.9717 - val_recall: 0.9717\n",
            "Epoch 18/50\n",
            "61/61 [==============================] - 117s 2s/step - loss: 1.3157 - accuracy: 0.9605 - precision: 0.9605 - recall: 0.9605 - val_loss: 2.0456 - val_accuracy: 0.9623 - val_precision: 0.9623 - val_recall: 0.9623\n",
            "Epoch 19/50\n",
            "61/61 [==============================] - 116s 2s/step - loss: 1.7228 - accuracy: 0.9575 - precision: 0.9575 - recall: 0.9575 - val_loss: 4.1317 - val_accuracy: 0.9245 - val_precision: 0.9245 - val_recall: 0.9245\n",
            "Epoch 20/50\n",
            "61/61 [==============================] - 117s 2s/step - loss: 2.1156 - accuracy: 0.9534 - precision: 0.9534 - recall: 0.9534 - val_loss: 3.2217 - val_accuracy: 0.9340 - val_precision: 0.9340 - val_recall: 0.9340\n",
            "Epoch 21/50\n",
            "61/61 [==============================] - 117s 2s/step - loss: 2.2898 - accuracy: 0.9462 - precision: 0.9462 - recall: 0.9462 - val_loss: 5.6447 - val_accuracy: 0.8962 - val_precision: 0.8962 - val_recall: 0.8962\n",
            "Epoch 22/50\n",
            "61/61 [==============================] - 114s 2s/step - loss: 2.4552 - accuracy: 0.9436 - precision: 0.9436 - recall: 0.9436 - val_loss: 5.7072 - val_accuracy: 0.9057 - val_precision: 0.9057 - val_recall: 0.9057\n",
            "Epoch 23/50\n",
            "61/61 [==============================] - 116s 2s/step - loss: 2.7891 - accuracy: 0.9400 - precision: 0.9400 - recall: 0.9400 - val_loss: 5.9287 - val_accuracy: 0.8868 - val_precision: 0.8868 - val_recall: 0.8868\n",
            "Epoch 24/50\n",
            "61/61 [==============================] - 114s 2s/step - loss: 2.8567 - accuracy: 0.9375 - precision: 0.9375 - recall: 0.9375 - val_loss: 4.5262 - val_accuracy: 0.9245 - val_precision: 0.9245 - val_recall: 0.9245\n",
            "Epoch 25/50\n",
            "61/61 [==============================] - 120s 2s/step - loss: 2.7218 - accuracy: 0.9329 - precision: 0.9329 - recall: 0.9329 - val_loss: 5.7555 - val_accuracy: 0.8868 - val_precision: 0.8868 - val_recall: 0.8868\n",
            "Epoch 26/50\n",
            "61/61 [==============================] - 114s 2s/step - loss: 2.3572 - accuracy: 0.9452 - precision: 0.9452 - recall: 0.9452 - val_loss: 4.7587 - val_accuracy: 0.9340 - val_precision: 0.9340 - val_recall: 0.9340\n",
            "Epoch 27/50\n",
            "61/61 [==============================] - 116s 2s/step - loss: 2.4661 - accuracy: 0.9441 - precision: 0.9441 - recall: 0.9441 - val_loss: 5.3820 - val_accuracy: 0.9151 - val_precision: 0.9151 - val_recall: 0.9151\n",
            "Epoch 28/50\n",
            "61/61 [==============================] - 118s 2s/step - loss: 2.6276 - accuracy: 0.9380 - precision: 0.9380 - recall: 0.9380 - val_loss: 6.4097 - val_accuracy: 0.9151 - val_precision: 0.9151 - val_recall: 0.9151\n",
            "Epoch 29/50\n",
            "61/61 [==============================] - 112s 2s/step - loss: 2.6546 - accuracy: 0.9421 - precision: 0.9421 - recall: 0.9421 - val_loss: 6.7807 - val_accuracy: 0.8962 - val_precision: 0.8962 - val_recall: 0.8962\n",
            "Epoch 30/50\n",
            "61/61 [==============================] - 115s 2s/step - loss: 2.3687 - accuracy: 0.9349 - precision: 0.9349 - recall: 0.9349 - val_loss: 11.7151 - val_accuracy: 0.8491 - val_precision: 0.8491 - val_recall: 0.8491\n",
            "Epoch 31/50\n",
            "61/61 [==============================] - 115s 2s/step - loss: 4.0123 - accuracy: 0.9139 - precision: 0.9139 - recall: 0.9139 - val_loss: 11.8186 - val_accuracy: 0.8679 - val_precision: 0.8679 - val_recall: 0.8679\n",
            "Epoch 32/50\n",
            "61/61 [==============================] - 115s 2s/step - loss: 5.1373 - accuracy: 0.9047 - precision: 0.9047 - recall: 0.9047 - val_loss: 26.2225 - val_accuracy: 0.8113 - val_precision: 0.8113 - val_recall: 0.8113\n",
            "Epoch 33/50\n",
            "61/61 [==============================] - 125s 2s/step - loss: 10.7664 - accuracy: 0.8498 - precision: 0.8498 - recall: 0.8498 - val_loss: 46.3900 - val_accuracy: 0.7642 - val_precision: 0.7642 - val_recall: 0.7642\n",
            "Epoch 34/50\n",
            "61/61 [==============================] - 115s 2s/step - loss: 20.4519 - accuracy: 0.8191 - precision: 0.8195 - recall: 0.8191 - val_loss: 44.2057 - val_accuracy: 0.7830 - val_precision: 0.7830 - val_recall: 0.7830\n",
            "Epoch 35/50\n",
            "61/61 [==============================] - 114s 2s/step - loss: 19.6170 - accuracy: 0.8421 - precision: 0.8421 - recall: 0.8421 - val_loss: 32.8721 - val_accuracy: 0.8302 - val_precision: 0.8302 - val_recall: 0.8302\n",
            "Epoch 36/50\n",
            "61/61 [==============================] - 115s 2s/step - loss: 17.3357 - accuracy: 0.8447 - precision: 0.8447 - recall: 0.8447 - val_loss: 17.0980 - val_accuracy: 0.8585 - val_precision: 0.8585 - val_recall: 0.8585\n",
            "Epoch 37/50\n",
            "61/61 [==============================] - 124s 2s/step - loss: 12.3610 - accuracy: 0.8775 - precision: 0.8775 - recall: 0.8775 - val_loss: 7.9130 - val_accuracy: 0.8962 - val_precision: 0.8962 - val_recall: 0.8962\n",
            "Epoch 38/50\n",
            "61/61 [==============================] - 115s 2s/step - loss: 6.0390 - accuracy: 0.9200 - precision: 0.9200 - recall: 0.9200 - val_loss: 6.0690 - val_accuracy: 0.9245 - val_precision: 0.9245 - val_recall: 0.9245\n",
            "Epoch 39/50\n",
            "61/61 [==============================] - 115s 2s/step - loss: 5.5578 - accuracy: 0.9257 - precision: 0.9257 - recall: 0.9257 - val_loss: 5.7451 - val_accuracy: 0.9340 - val_precision: 0.9340 - val_recall: 0.9340\n",
            "Epoch 40/50\n",
            "61/61 [==============================] - 113s 2s/step - loss: 4.7788 - accuracy: 0.9313 - precision: 0.9313 - recall: 0.9313 - val_loss: 5.3734 - val_accuracy: 0.9340 - val_precision: 0.9340 - val_recall: 0.9340\n",
            "Epoch 41/50\n",
            "61/61 [==============================] - 113s 2s/step - loss: 3.7649 - accuracy: 0.9431 - precision: 0.9431 - recall: 0.9431 - val_loss: 4.2759 - val_accuracy: 0.9528 - val_precision: 0.9528 - val_recall: 0.9528\n",
            "Epoch 42/50\n",
            "61/61 [==============================] - 125s 2s/step - loss: 3.2129 - accuracy: 0.9446 - precision: 0.9446 - recall: 0.9446 - val_loss: 4.0986 - val_accuracy: 0.9528 - val_precision: 0.9528 - val_recall: 0.9528\n",
            "Epoch 43/50\n",
            "61/61 [==============================] - 115s 2s/step - loss: 3.5523 - accuracy: 0.9405 - precision: 0.9405 - recall: 0.9405 - val_loss: 4.0454 - val_accuracy: 0.9528 - val_precision: 0.9528 - val_recall: 0.9528\n",
            "Epoch 44/50\n",
            "61/61 [==============================] - 115s 2s/step - loss: 2.3755 - accuracy: 0.9534 - precision: 0.9534 - recall: 0.9534 - val_loss: 3.6656 - val_accuracy: 0.9528 - val_precision: 0.9528 - val_recall: 0.9528\n",
            "Epoch 45/50\n",
            "61/61 [==============================] - 114s 2s/step - loss: 3.0806 - accuracy: 0.9513 - precision: 0.9513 - recall: 0.9513 - val_loss: 3.8518 - val_accuracy: 0.9528 - val_precision: 0.9528 - val_recall: 0.9528\n",
            "Epoch 46/50\n",
            "61/61 [==============================] - 112s 2s/step - loss: 2.8134 - accuracy: 0.9554 - precision: 0.9554 - recall: 0.9554 - val_loss: 3.4674 - val_accuracy: 0.9717 - val_precision: 0.9717 - val_recall: 0.9717\n",
            "Epoch 47/50\n",
            "61/61 [==============================] - 124s 2s/step - loss: 1.6146 - accuracy: 0.9682 - precision: 0.9682 - recall: 0.9682 - val_loss: 3.0669 - val_accuracy: 0.9623 - val_precision: 0.9623 - val_recall: 0.9623\n",
            "Epoch 48/50\n",
            "61/61 [==============================] - 112s 2s/step - loss: 1.6424 - accuracy: 0.9749 - precision: 0.9749 - recall: 0.9749 - val_loss: 2.8569 - val_accuracy: 0.9623 - val_precision: 0.9623 - val_recall: 0.9623\n",
            "Epoch 49/50\n",
            "61/61 [==============================] - 117s 2s/step - loss: 0.9352 - accuracy: 0.9821 - precision: 0.9821 - recall: 0.9821 - val_loss: 2.8646 - val_accuracy: 0.9623 - val_precision: 0.9623 - val_recall: 0.9623\n",
            "Epoch 50/50\n",
            "61/61 [==============================] - 118s 2s/step - loss: 1.0999 - accuracy: 0.9769 - precision: 0.9769 - recall: 0.9769 - val_loss: 2.5749 - val_accuracy: 0.9623 - val_precision: 0.9623 - val_recall: 0.9623\n"
          ]
        }
      ],
      "source": [
        "# fit the model\n",
        "# Run the cell. It will take some time to execute\n",
        "r = model.fit_generator(\n",
        "  training_set,\n",
        "  validation_data=test_set,\n",
        "  epochs=20,\n",
        "  steps_per_epoch=len(training_set),\n",
        "  validation_steps=len(test_set)\n",
        ")"
      ]
    },
    {
      "cell_type": "code",
      "execution_count": null,
      "metadata": {
        "colab": {
          "background_save": true
        },
        "id": "0VbK4ke_P3lj"
      },
      "outputs": [],
      "source": [
        "import matplotlib.pyplot as plt"
      ]
    },
    {
      "cell_type": "code",
      "execution_count": null,
      "metadata": {
        "colab": {
          "background_save": true
        },
        "id": "DabNRVK3P3p4",
        "outputId": "f6df3a34-d7a9-4571-c8c9-2b719c9ba120"
      },
      "outputs": [
        {
          "data": {
            "image/png": "[encoded data removed]",
            "text/plain": [
              "<Figure size 640x480 with 1 Axes>"
            ]
          },
          "metadata": {},
          "output_type": "display_data"
        },
        {
          "data": {
            "image/png": "[encoded data removed]",
            "text/plain": [
              "<Figure size 640x480 with 1 Axes>"
            ]
          },
          "metadata": {},
          "output_type": "display_data"
        },
        {
          "data": {
            "text/plain": [
              "<Figure size 640x480 with 0 Axes>"
            ]
          },
          "metadata": {},
          "output_type": "display_data"
        }
      ],
      "source": [
        "# plot the loss\n",
        "plt.plot(r.history['loss'], label='train loss')\n",
        "plt.plot(r.history['val_loss'], label='val loss')\n",
        "plt.legend()\n",
        "plt.show()\n",
        "plt.savefig('LossVal_loss')\n",
        "\n",
        "# plot the accuracy\n",
        "plt.plot(r.history['accuracy'], label='train acc')\n",
        "plt.plot(r.history['val_accuracy'], label='val acc')\n",
        "plt.legend()\n",
        "plt.show()\n",
        "plt.savefig('AccVal_acc')"
      ]
    },
    {
      "cell_type": "code",
      "execution_count": null,
      "metadata": {
        "colab": {
          "background_save": true
        },
        "id": "2xF-ozjmP3u4"
      },
      "outputs": [],
      "source": [
        "# save it as a h5 file\n",
        "\n",
        "\n",
        "from tensorflow.keras.models import load_model\n",
        "\n",
        "model.save('/content/drive/MyDrive/Cotton Dataset/model_mobilenetv2.h5')"
      ]
    },
    {
      "cell_type": "code",
      "execution_count": null,
      "metadata": {
        "id": "ZmyqOVJdO3ex"
      },
      "outputs": [],
      "source": []
    }
  ],
  "metadata": {
    "colab": {
      "provenance": []
    },
    "kernelspec": {
      "display_name": "Python 3",
      "name": "python3"
    },
    "language_info": {
      "name": "python"
    }
  },
  "nbformat": 4,
  "nbformat_minor": 0
}